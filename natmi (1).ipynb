{
 "cells": [
  {
   "cell_type": "code",
   "execution_count": 97,
   "id": "4c4a0cb1",
   "metadata": {
    "scrolled": true
   },
   "outputs": [],
   "source": [
    "import squidpy as sq\n",
    "import scanpy as sc\n",
    "import pandas as pd\n",
    "import decoupler as dc\n",
    "import plotnine as p9\n",
    "import liana as li\n",
    "import numpy as np\n",
    "\n",
    "from pathlib import Path\n",
    "from scipy.sparse import issparse, csr_matrix\n",
    "from liana.method import cellphonedb, natmi\n",
    "from mousipy import translate\n",
    "\n",
    "import datetime"
   ]
  },
  {
   "cell_type": "code",
   "execution_count": null,
   "id": "da75c235",
   "metadata": {},
   "outputs": [],
   "source": [
    "#adata.obs.columns\n",
    "#adata.var\n",
    "#adata.layers['raw'] = adata.X.copy()\n",
    "#sc.pp.normalize_total(adata, target_sum=1e4)\n",
    "#sc.pp.log1p(adata)\n",
    "#adata.layers['lognorm'] = adata.X.copy()\n",
    "#just to look how it looks like, especially if we have Ensemble IDs or gene names\n",
    "#adata.to_df(layer=\"raw\")\n",
    "\n",
    "#adata.var.index = adata.var[\"gene_ids\"]\n",
    "\n",
    "#control that the names are now symbols. If not, try adata.var_names = adata.var[\"gene_name\"]\n",
    "\n",
    "#adata.to_df(layer=\"raw\")\n",
    "#print(adata.var_names[:5])"
   ]
  },
  {
   "cell_type": "markdown",
   "id": "8aef8ccd",
   "metadata": {},
   "source": [
    "# Merfish"
   ]
  },
  {
   "cell_type": "code",
   "execution_count": 93,
   "id": "f087bbe8",
   "metadata": {
    "scrolled": true
   },
   "outputs": [
    {
     "name": "stdout",
     "output_type": "stream",
     "text": [
      "WARNING: adata.X seems to be already log-transformed.\n",
      "Index(['Htr7', 'Gzmk', 'Arhgap36', 'Sema3c', 'Rxrg'], dtype='object', name='gene_name')\n",
      "         Method Name Magnitude Score Specificity Score  \\\n",
      "0        CellPhoneDB        lr_means   cellphone_pvals   \n",
      "0         Connectome       expr_prod     scaled_weight   \n",
      "0             log2FC            None          lr_logfc   \n",
      "0              NATMI       expr_prod       spec_weight   \n",
      "0  SingleCellSignalR         lrscore              None   \n",
      "0           CellChat        lr_probs    cellchat_pvals   \n",
      "0     Rank_Aggregate  magnitude_rank  specificity_rank   \n",
      "0     Geometric Mean       lr_gmeans       gmean_pvals   \n",
      "\n",
      "                                           Reference  \n",
      "0  Efremova, M., Vento-Tormo, M., Teichmann, S.A....  \n",
      "0  Raredon, M.S.B., Yang, J., Garritano, J., Wang...  \n",
      "0  Dimitrov, D., Türei, D., Garrido-Rodriguez, M....  \n",
      "0  Hou, R., Denisenko, E., Ong, H.T., Ramilowski,...  \n",
      "0  Cabello-Aguilar, S., Alame, M., Kon-Sun-Tack, ...  \n",
      "0  Jin, S., Guerrero-Juarez, C.F., Zhang, L., Cha...  \n",
      "0  Dimitrov, D., Türei, D., Garrido-Rodriguez, M....  \n",
      "0  CellPhoneDBv2's permutation approach applied t...  \n",
      "['baccin2019', 'cellcall', 'cellchatdb', 'cellinker', 'cellphonedb', 'celltalkdb', 'connectomedb2020', 'consensus', 'embrace', 'guide2pharma', 'hpmr', 'icellnet', 'italk', 'kirouac2010', 'lrdb', 'mouseconsensus', 'ramilowski2015']\n",
      "START NATMI Merfish\n",
      "2025-04-28 22:05:35.104779\n",
      "Using the `lognorm` layer!\n",
      "The following cell identities were excluded: monocyte, dopaminergic neuron, olfactory ensheathing cell, histaminergic neuron\n"
     ]
    },
    {
     "name": "stderr",
     "output_type": "stream",
     "text": [
      "/home/blizkovs/.local/lib/python3.12/site-packages/anndata/_core/anndata.py:381: FutureWarning: The dtype argument is deprecated and will be removed in late 2024.\n",
      "/home/blizkovs/.local/lib/python3.12/site-packages/liana/method/_pipe_utils/_pre.py:150: FutureWarning: The default of observed=False is deprecated and will be changed to True in a future version of pandas. Pass observed=False to retain current behavior or observed=True to adopt the future default and silence this warning.\n"
     ]
    },
    {
     "name": "stdout",
     "output_type": "stream",
     "text": [
      "0.83 of entities in the resource are missing from the data.\n",
      "Generating ligand-receptor stats for 43488 samples and 1122 features\n",
      "END NATMI Merfish\n",
      "2025-04-28 22:05:38.223274\n"
     ]
    }
   ],
   "source": [
    "##loading data\n",
    "\n",
    "# nemelo by se najit hodne interakci\n",
    "adata = sc.read_h5ad(\"../PRIMUS/data/33_data/transfer/Sofie_bc_prace/data_true/merscope_final_annotated_subseted_gene_symbol.h5ad\")\n",
    "adata\n",
    "\n",
    "adata.obs.columns\n",
    "adata.var\n",
    "adata.layers['raw'] = adata.X.copy()\n",
    "sc.pp.normalize_total(adata, target_sum=1e4)\n",
    "sc.pp.log1p(adata)\n",
    "adata.layers['lognorm'] = adata.X.copy()\n",
    "#just to look how it looks like, especially if we have Ensemble IDs or gene names\n",
    "adata.to_df(layer=\"raw\")\n",
    "\n",
    "adata.var.index = adata.var[\"gene_name\"]\n",
    "\n",
    "#control that the names are now symbols. If not, try adata.var_names = adata.var[\"gene_name\"]\n",
    "\n",
    "adata.to_df(layer=\"raw\")\n",
    "print(adata.var_names[:5])\n",
    "\n",
    "print(li.mt.show_methods())\n",
    "print(li.resource.show_resources())\n",
    "\n",
    "\n",
    "##NATMI\n",
    "print(\"START NATMI Merfish\")\n",
    "print(datetime.datetime.now())\n",
    "resource_name = \"mouseconsensus\"  # Replace with the desired resource name if needed\n",
    "lr_pairs = li.resource.select_resource(resource_name)\n",
    "lr_pairs\n",
    "\n",
    "def lr_pairs_in_adata(adata):\n",
    "    genes_in_dataset = set(adata.var_names)  # Replace `adata.var_names` with your dataset's gene names if different\n",
    "    \n",
    "    # Filter the ligand-receptor pairs for those present in your dataset\n",
    "    filtered_lr_pairs = lr_pairs[\n",
    "        lr_pairs['ligand'].isin(genes_in_dataset) & lr_pairs['receptor'].isin(genes_in_dataset)\n",
    "    ]\n",
    "    \n",
    "    return filtered_lr_pairs\n",
    "\n",
    "filtered_lr_pairs = lr_pairs_in_adata(adata)\n",
    "\n",
    "natmi(adata,\n",
    "            groupby='cell_type', #or cell_type #or cell_labels\n",
    "            # NOTE by default the resource uses HUMAN gene symbols\n",
    "            resource_name='mouseconsensus',use_raw =False,\n",
    "            expr_prop=0.1,layer = 'lognorm',\n",
    "            verbose=True, key_added='natmi_res')\n",
    "\n",
    "natmi_results = adata.uns['natmi_res']\n",
    "\n",
    "natmi_results.to_csv(\"../output/natmi/natmi_results_merfish.csv\", index=False)\n",
    "\n",
    "print(\"END NATMI Merfish\")\n",
    "print(datetime.datetime.now())"
   ]
  },
  {
   "cell_type": "code",
   "execution_count": 52,
   "id": "bcc1dfd3",
   "metadata": {
    "scrolled": false
   },
   "outputs": [
    {
     "data": {
      "text/html": [
       "<div>\n",
       "<style scoped>\n",
       "    .dataframe tbody tr th:only-of-type {\n",
       "        vertical-align: middle;\n",
       "    }\n",
       "\n",
       "    .dataframe tbody tr th {\n",
       "        vertical-align: top;\n",
       "    }\n",
       "\n",
       "    .dataframe thead th {\n",
       "        text-align: right;\n",
       "    }\n",
       "</style>\n",
       "<table border=\"1\" class=\"dataframe\">\n",
       "  <thead>\n",
       "    <tr style=\"text-align: right;\">\n",
       "      <th></th>\n",
       "      <th>gene_ids</th>\n",
       "      <th>feature_types</th>\n",
       "      <th>genome</th>\n",
       "    </tr>\n",
       "  </thead>\n",
       "  <tbody>\n",
       "    <tr>\n",
       "      <th>A1cf</th>\n",
       "      <td>ENSMUSG00000052595</td>\n",
       "      <td>Gene Expression</td>\n",
       "      <td>Unknown</td>\n",
       "    </tr>\n",
       "    <tr>\n",
       "      <th>A2m</th>\n",
       "      <td>ENSMUSG00000030111</td>\n",
       "      <td>Gene Expression</td>\n",
       "      <td>Unknown</td>\n",
       "    </tr>\n",
       "    <tr>\n",
       "      <th>Aatf</th>\n",
       "      <td>ENSMUSG00000018697</td>\n",
       "      <td>Gene Expression</td>\n",
       "      <td>Unknown</td>\n",
       "    </tr>\n",
       "    <tr>\n",
       "      <th>Abca1</th>\n",
       "      <td>ENSMUSG00000015243</td>\n",
       "      <td>Gene Expression</td>\n",
       "      <td>Unknown</td>\n",
       "    </tr>\n",
       "    <tr>\n",
       "      <th>Abca13</th>\n",
       "      <td>ENSMUSG00000004668</td>\n",
       "      <td>Gene Expression</td>\n",
       "      <td>Unknown</td>\n",
       "    </tr>\n",
       "    <tr>\n",
       "      <th>...</th>\n",
       "      <td>...</td>\n",
       "      <td>...</td>\n",
       "      <td>...</td>\n",
       "    </tr>\n",
       "    <tr>\n",
       "      <th>Zswim9</th>\n",
       "      <td>ENSMUSG00000070814</td>\n",
       "      <td>Gene Expression</td>\n",
       "      <td>Unknown</td>\n",
       "    </tr>\n",
       "    <tr>\n",
       "      <th>Zup1</th>\n",
       "      <td>ENSMUSG00000039531</td>\n",
       "      <td>Gene Expression</td>\n",
       "      <td>Unknown</td>\n",
       "    </tr>\n",
       "    <tr>\n",
       "      <th>Zyx</th>\n",
       "      <td>ENSMUSG00000029860</td>\n",
       "      <td>Gene Expression</td>\n",
       "      <td>Unknown</td>\n",
       "    </tr>\n",
       "    <tr>\n",
       "      <th>Zzef1</th>\n",
       "      <td>ENSMUSG00000055670</td>\n",
       "      <td>Gene Expression</td>\n",
       "      <td>Unknown</td>\n",
       "    </tr>\n",
       "    <tr>\n",
       "      <th>a</th>\n",
       "      <td>ENSMUSG00000027596</td>\n",
       "      <td>Gene Expression</td>\n",
       "      <td>Unknown</td>\n",
       "    </tr>\n",
       "  </tbody>\n",
       "</table>\n",
       "<p>5006 rows × 3 columns</p>\n",
       "</div>"
      ],
      "text/plain": [
       "                  gene_ids    feature_types   genome\n",
       "A1cf    ENSMUSG00000052595  Gene Expression  Unknown\n",
       "A2m     ENSMUSG00000030111  Gene Expression  Unknown\n",
       "Aatf    ENSMUSG00000018697  Gene Expression  Unknown\n",
       "Abca1   ENSMUSG00000015243  Gene Expression  Unknown\n",
       "Abca13  ENSMUSG00000004668  Gene Expression  Unknown\n",
       "...                    ...              ...      ...\n",
       "Zswim9  ENSMUSG00000070814  Gene Expression  Unknown\n",
       "Zup1    ENSMUSG00000039531  Gene Expression  Unknown\n",
       "Zyx     ENSMUSG00000029860  Gene Expression  Unknown\n",
       "Zzef1   ENSMUSG00000055670  Gene Expression  Unknown\n",
       "a       ENSMUSG00000027596  Gene Expression  Unknown\n",
       "\n",
       "[5006 rows x 3 columns]"
      ]
     },
     "execution_count": 52,
     "metadata": {},
     "output_type": "execute_result"
    }
   ],
   "source": [
    "adata.var"
   ]
  },
  {
   "cell_type": "markdown",
   "id": "a4052be3",
   "metadata": {},
   "source": [
    "# Xenium"
   ]
  },
  {
   "cell_type": "code",
   "execution_count": 94,
   "id": "ce8abdad",
   "metadata": {},
   "outputs": [
    {
     "name": "stdout",
     "output_type": "stream",
     "text": [
      "START NATMI Xenium\n",
      "2025-04-28 22:05:51.713380\n",
      "Using the `lognorm` layer!\n",
      "778 features of mat are empty, they will be removed.\n",
      "The following cell identities were excluded: Serpinf1, Sncg\n"
     ]
    },
    {
     "name": "stderr",
     "output_type": "stream",
     "text": [
      "/home/blizkovs/.local/lib/python3.12/site-packages/anndata/_core/anndata.py:381: FutureWarning: The dtype argument is deprecated and will be removed in late 2024.\n",
      "/home/blizkovs/.local/lib/python3.12/site-packages/pandas/core/indexing.py:1857: ImplicitModificationWarning: Trying to modify attribute `.obs` of view, initializing view as actual.\n",
      "/home/blizkovs/.local/lib/python3.12/site-packages/liana/method/_pipe_utils/_pre.py:150: FutureWarning: The default of observed=False is deprecated and will be changed to True in a future version of pandas. Pass observed=False to retain current behavior or observed=True to adopt the future default and silence this warning.\n"
     ]
    },
    {
     "name": "stdout",
     "output_type": "stream",
     "text": [
      "0.51 of entities in the resource are missing from the data.\n",
      "Generating ligand-receptor stats for 2292 samples and 4228 features\n",
      "END NATMI Xenium\n",
      "2025-04-28 22:06:02.074689\n"
     ]
    }
   ],
   "source": [
    "##loading data\n",
    "\n",
    "adata = sc.read_h5ad(\"../PRIMUS/data/33_data/transfer/Sofie_bc_prace/data_true/adata_xenium_final_annotated.h5ad\")\n",
    "adata\n",
    "\n",
    "##NATMI\n",
    "print(\"START NATMI Xenium\")\n",
    "print(datetime.datetime.now())\n",
    "resource_name = \"mouseconsensus\"  # Replace with the desired resource name if needed\n",
    "lr_pairs = li.resource.select_resource(resource_name)\n",
    "lr_pairs\n",
    "\n",
    "def lr_pairs_in_adata(adata):\n",
    "    genes_in_dataset = set(adata.var_names)  # Replace `adata.var_names` with your dataset's gene names if different\n",
    "    \n",
    "    # Filter the ligand-receptor pairs for those present in your dataset\n",
    "    filtered_lr_pairs = lr_pairs[\n",
    "        lr_pairs['ligand'].isin(genes_in_dataset) & lr_pairs['receptor'].isin(genes_in_dataset)\n",
    "    ]\n",
    "    \n",
    "    return filtered_lr_pairs\n",
    "\n",
    "filtered_lr_pairs = lr_pairs_in_adata(adata)\n",
    "\n",
    "natmi(adata,\n",
    "            groupby='cell_groups', #or cell_type #or cell_labels\n",
    "            # NOTE by default the resource uses HUMAN gene symbols\n",
    "            resource_name='mouseconsensus',use_raw =False,\n",
    "            expr_prop=0.1, layer = 'lognorm',\n",
    "            verbose=True, key_added='natmi_res')\n",
    "\n",
    "natmi_results = adata.uns['natmi_res']\n",
    "\n",
    "natmi_results.to_csv(\"../output/natmi/natmi_results_xenium.csv\", index=False)\n",
    "print(\"END NATMI Xenium\")\n",
    "print(datetime.datetime.now())"
   ]
  },
  {
   "cell_type": "markdown",
   "id": "a3c0ba6a",
   "metadata": {},
   "source": [
    "# Cosmx"
   ]
  },
  {
   "cell_type": "code",
   "execution_count": 103,
   "id": "79fbb986",
   "metadata": {
    "scrolled": true
   },
   "outputs": [
    {
     "data": {
      "text/plain": [
       "Index(['Chrna4', 'Slc6a1', 'Cd109', 'Ldha', 'Aldoc', 'Drd1', 'Tank', 'Rit2',\n",
       "       'Prkag2', 'Lpar3',\n",
       "       ...\n",
       "       'NegPrb1', 'NegPrb2', 'NegPrb3', 'NegPrb4', 'NegPrb5', 'NegPrb6',\n",
       "       'NegPrb7', 'NegPrb8', 'NegPrb9', 'NegPrb10'],\n",
       "      dtype='object', length=960)"
      ]
     },
     "execution_count": 103,
     "metadata": {},
     "output_type": "execute_result"
    }
   ],
   "source": [
    "adata.var_names"
   ]
  },
  {
   "cell_type": "code",
   "execution_count": 101,
   "id": "61757d2b",
   "metadata": {
    "scrolled": true
   },
   "outputs": [
    {
     "name": "stdout",
     "output_type": "stream",
     "text": [
      "START NATMI Cosmx\n",
      "2025-04-30 10:31:30.396255\n",
      "Using the `lognorm` layer!\n",
      "7 samples of mat are empty, they will be removed.\n"
     ]
    },
    {
     "name": "stderr",
     "output_type": "stream",
     "text": [
      "/home/blizkovs/.local/lib/python3.12/site-packages/anndata/_core/anndata.py:381: FutureWarning: The dtype argument is deprecated and will be removed in late 2024.\n",
      "/home/blizkovs/.local/lib/python3.12/site-packages/pandas/core/indexing.py:1857: ImplicitModificationWarning: Trying to modify attribute `.obs` of view, initializing view as actual.\n",
      "/home/blizkovs/.local/lib/python3.12/site-packages/liana/method/_pipe_utils/_pre.py:150: FutureWarning: The default of observed=False is deprecated and will be changed to True in a future version of pandas. Pass observed=False to retain current behavior or observed=True to adopt the future default and silence this warning.\n"
     ]
    },
    {
     "name": "stdout",
     "output_type": "stream",
     "text": [
      "0.83 of entities in the resource are missing from the data.\n",
      "Generating ligand-receptor stats for 48549 samples and 960 features\n",
      "END NATMI Cosmx\n",
      "2025-04-30 10:31:37.929089\n"
     ]
    }
   ],
   "source": [
    "##loading data\n",
    "\n",
    "adata = sc.read_h5ad(\"../PRIMUS/data/33_data/transfer/Sofie_bc_prace/data_true/cosmx_final_annotated.h5ad\")\n",
    "adata\n",
    "\n",
    "##NATMI\n",
    "print(\"START NATMI Cosmx\")\n",
    "print(datetime.datetime.now())\n",
    "resource_name = \"mouseconsensus\"  # Replace with the desired resource name if needed\n",
    "lr_pairs = li.resource.select_resource(resource_name)\n",
    "lr_pairs\n",
    "\n",
    "def lr_pairs_in_adata(adata):\n",
    "    genes_in_dataset = set(adata.var_names)  # Replace `adata.var_names` with your dataset's gene names if different\n",
    "    \n",
    "    # Filter the ligand-receptor pairs for those present in your dataset\n",
    "    filtered_lr_pairs = lr_pairs[\n",
    "        lr_pairs['ligand'].isin(genes_in_dataset) & lr_pairs['receptor'].isin(genes_in_dataset)\n",
    "    ]\n",
    "    \n",
    "    return filtered_lr_pairs\n",
    "\n",
    "filtered_lr_pairs = lr_pairs_in_adata(adata)\n",
    "\n",
    "natmi(adata,\n",
    "            groupby='cell_groups', #or cell_type #or cell_labels\n",
    "            # NOTE by default the resource uses HUMAN gene symbols\n",
    "            resource_name='mouseconsensus',use_raw =False,\n",
    "            expr_prop=0.1,layer = 'lognorm',\n",
    "            verbose=True, key_added='natmi_res')\n",
    "\n",
    "natmi_results = adata.uns['natmi_res']\n",
    "\n",
    "natmi_results.to_csv(\"../output/natmi/natmi_results_cosmx.csv\", index=False)\n",
    "print(\"END NATMI Cosmx\")\n",
    "print(datetime.datetime.now())"
   ]
  },
  {
   "cell_type": "markdown",
   "id": "799d05fd",
   "metadata": {},
   "source": [
    "# Visium"
   ]
  },
  {
   "cell_type": "code",
   "execution_count": 117,
   "id": "57e2534f",
   "metadata": {
    "scrolled": true
   },
   "outputs": [
    {
     "name": "stderr",
     "output_type": "stream",
     "text": [
      "/home/blizkovs/.local/lib/python3.12/site-packages/anndata/_core/aligned_df.py:68: ImplicitModificationWarning: Transforming to str index.\n"
     ]
    },
    {
     "data": {
      "text/plain": [
       "AnnData object with n_obs × n_vars = 273789 × 16797\n",
       "    obs: 'in_tissue', 'array_row', 'array_col', 'location_id', 'region', 'n_genes_by_counts', 'log1p_n_genes_by_counts', 'total_counts', 'log1p_total_counts', 'pct_counts_in_top_50_genes', 'pct_counts_in_top_100_genes', 'pct_counts_in_top_200_genes', 'pct_counts_in_top_500_genes', 'total_counts_mt', 'log1p_total_counts_mt', 'pct_counts_mt', 'n_counts', 'barcode', 'label'\n",
       "    var: 'gene_ids', 'feature_types', 'genome', 'mt', 'n_cells_by_counts', 'mean_counts', 'log1p_mean_counts', 'pct_dropout_by_counts', 'total_counts', 'log1p_total_counts', 'n_cells'\n",
       "    uns: 'label_colors', 'log1p', 'spatialdata_attrs'\n",
       "    obsm: 'spatial'\n",
       "    layers: 'lognorm'"
      ]
     },
     "execution_count": 117,
     "metadata": {},
     "output_type": "execute_result"
    }
   ],
   "source": [
    "##chybejici symbol\n",
    "\n",
    "adata = sc.read_h5ad(\"../PRIMUS/data/33_data/transfer/Sofie_bc_prace/visium_hd_annotated.h5ad\")\n",
    "adata\n"
   ]
  },
  {
   "cell_type": "code",
   "execution_count": 120,
   "id": "366b22e1",
   "metadata": {},
   "outputs": [
    {
     "data": {
      "text/plain": [
       "Index(['Xkr4', 'Rp1', 'Sox17', 'Lypla1', 'Tcea1', 'Rgs20', 'Atp6v1h', 'Oprk1',\n",
       "       'Npbwr1', 'Rb1cc1',\n",
       "       ...\n",
       "       'mt-Atp8', 'mt-Atp6', 'mt-Co3', 'mt-Nd3', 'mt-Nd4l', 'mt-Nd4', 'mt-Nd5',\n",
       "       'mt-Nd6', 'mt-Cytb', 'Vamp7'],\n",
       "      dtype='object', length=16797)"
      ]
     },
     "execution_count": 120,
     "metadata": {},
     "output_type": "execute_result"
    }
   ],
   "source": [
    "adata.var_names"
   ]
  },
  {
   "cell_type": "code",
   "execution_count": 119,
   "id": "65cfbe90",
   "metadata": {},
   "outputs": [
    {
     "name": "stdout",
     "output_type": "stream",
     "text": [
      "START NATMI Visium\n",
      "2025-04-30 10:47:06.217371\n",
      "Using the `lognorm` layer!\n"
     ]
    },
    {
     "name": "stderr",
     "output_type": "stream",
     "text": [
      "/home/blizkovs/.local/lib/python3.12/site-packages/anndata/_core/anndata.py:381: FutureWarning: The dtype argument is deprecated and will be removed in late 2024.\n",
      "/home/blizkovs/.local/lib/python3.12/site-packages/liana/method/_pipe_utils/_pre.py:150: FutureWarning: The default of observed=False is deprecated and will be changed to True in a future version of pandas. Pass observed=False to retain current behavior or observed=True to adopt the future default and silence this warning.\n"
     ]
    },
    {
     "name": "stdout",
     "output_type": "stream",
     "text": [
      "0.13 of entities in the resource are missing from the data.\n",
      "Generating ligand-receptor stats for 273789 samples and 16797 features\n",
      "END NATMI Visium\n",
      "2025-04-30 10:47:28.383605\n"
     ]
    }
   ],
   "source": [
    "##NATMI\n",
    "print(\"START NATMI Visium\")\n",
    "print(datetime.datetime.now())\n",
    "resource_name = \"mouseconsensus\"  # Replace with the desired resource name if needed\n",
    "lr_pairs = li.resource.select_resource(resource_name)\n",
    "lr_pairs\n",
    "\n",
    "def lr_pairs_in_adata(adata):\n",
    "    genes_in_dataset = set(adata.var_names)  # Replace `adata.var_names` with your dataset's gene names if different\n",
    "    \n",
    "    # Filter the ligand-receptor pairs for those present in your dataset\n",
    "    filtered_lr_pairs = lr_pairs[\n",
    "        lr_pairs['ligand'].isin(genes_in_dataset) & lr_pairs['receptor'].isin(genes_in_dataset)\n",
    "    ]\n",
    "    \n",
    "    return filtered_lr_pairs\n",
    "\n",
    "filtered_lr_pairs = lr_pairs_in_adata(adata)\n",
    "\n",
    "natmi(adata,\n",
    "            groupby='label', #or cell_type #or cell_labels\n",
    "            # NOTE by default the resource uses HUMAN gene symbols\n",
    "            resource_name='mouseconsensus', use_raw = False,\n",
    "            expr_prop=0.1,layer = 'lognorm',\n",
    "            verbose=True, key_added='natmi_res')\n",
    "\n",
    "natmi_results = adata.uns['natmi_res']\n",
    "\n",
    "natmi_results.to_csv(\"../output/natmi/natmi_results_visiumhd.csv\", index=False)\n",
    "print(\"END NATMI Visium\")\n",
    "print(datetime.datetime.now())"
   ]
  }
 ],
 "metadata": {
  "kernelspec": {
   "display_name": "Python 3 (ipykernel)",
   "language": "python",
   "name": "python3"
  },
  "language_info": {
   "codemirror_mode": {
    "name": "ipython",
    "version": 3
   },
   "file_extension": ".py",
   "mimetype": "text/x-python",
   "name": "python",
   "nbconvert_exporter": "python",
   "pygments_lexer": "ipython3",
   "version": "3.12.3"
  }
 },
 "nbformat": 4,
 "nbformat_minor": 5
}
